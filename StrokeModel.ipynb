{
  "nbformat": 4,
  "nbformat_minor": 0,
  "metadata": {
    "colab": {
      "name": "StrokeModel.ipynb",
      "provenance": [],
      "collapsed_sections": []
    },
    "kernelspec": {
      "name": "python3",
      "display_name": "Python 3"
    },
    "language_info": {
      "name": "python"
    }
  },
  "cells": [
    {
      "cell_type": "markdown",
      "metadata": {
        "id": "ZaVp9_00jpZY"
      },
      "source": [
        "<table align=\"left\">\n",
        "  <td>\n",
        "    <a href=\"https://colab.research.google.com/drive/1_imHIzjSUuoAAtS7VAauH-qEIkmosexT\" target=\"_parent\"><img src=\"https://colab.research.google.com/assets/colab-badge.svg\" alt=\"Open In Colab\"/></a>\n",
        "  </td>\n",
        "</table>"
      ]
    },
    {
      "cell_type": "markdown",
      "metadata": {
        "id": "DV0AmjOjBfkT"
      },
      "source": [
        "---\n",
        "$Import$\n",
        "\n",
        "---"
      ]
    },
    {
      "cell_type": "code",
      "metadata": {
        "id": "-kfH74_mBTQ6"
      },
      "source": [
        "# Data\n",
        "import pandas as pd \n",
        "import numpy as np\n",
        "# Visualization\n",
        "import seaborn as sns\n",
        "import matplotlib.pyplot as plt\n",
        "# Preprocessing\n",
        "from sklearn.preprocessing import LabelEncoder\n",
        "from sklearn.impute import SimpleImputer\n",
        "from sklearn.model_selection import train_test_split, StratifiedShuffleSplit\n",
        "# Feature Importance \n",
        "from sklearn.feature_selection import SelectFromModel\n",
        "from sklearn.ensemble import RandomForestClassifier\n",
        "# Model\n",
        "from sklearn.linear_model import LogisticRegression\n",
        "from sklearn.neighbors import KNeighborsClassifier\n",
        "from sklearn.svm import SVC\n",
        "from sklearn.tree import DecisionTreeClassifier\n",
        "from sklearn.ensemble import RandomForestClassifier, AdaBoostClassifier\n",
        "import xgboost\n",
        "# Evaluation\n",
        "from sklearn.metrics import f1_score,confusion_matrix"
      ],
      "execution_count": null,
      "outputs": []
    },
    {
      "cell_type": "markdown",
      "metadata": {
        "id": "j5C131EECMNo"
      },
      "source": [
        "---\n",
        "$DATA$"
      ]
    },
    {
      "cell_type": "code",
      "metadata": {
        "id": "DybE0SMqB86I"
      },
      "source": [
        "df = pd.read_csv(\"stroke_data.csv\")"
      ],
      "execution_count": null,
      "outputs": []
    },
    {
      "cell_type": "code",
      "metadata": {
        "colab": {
          "base_uri": "https://localhost:8080/",
          "height": 203
        },
        "id": "UEJ2Gtc6CiMj",
        "outputId": "62e422b9-b9f6-4e7d-97f2-7e620ee689bc"
      },
      "source": [
        "df.head()"
      ],
      "execution_count": null,
      "outputs": [
        {
          "output_type": "execute_result",
          "data": {
            "text/html": [
              "<div>\n",
              "<style scoped>\n",
              "    .dataframe tbody tr th:only-of-type {\n",
              "        vertical-align: middle;\n",
              "    }\n",
              "\n",
              "    .dataframe tbody tr th {\n",
              "        vertical-align: top;\n",
              "    }\n",
              "\n",
              "    .dataframe thead th {\n",
              "        text-align: right;\n",
              "    }\n",
              "</style>\n",
              "<table border=\"1\" class=\"dataframe\">\n",
              "  <thead>\n",
              "    <tr style=\"text-align: right;\">\n",
              "      <th></th>\n",
              "      <th>id</th>\n",
              "      <th>gender</th>\n",
              "      <th>age</th>\n",
              "      <th>hypertension</th>\n",
              "      <th>heart_disease</th>\n",
              "      <th>ever_married</th>\n",
              "      <th>work_type</th>\n",
              "      <th>Residence_type</th>\n",
              "      <th>avg_glucose_level</th>\n",
              "      <th>bmi</th>\n",
              "      <th>smoking_status</th>\n",
              "      <th>stroke</th>\n",
              "    </tr>\n",
              "  </thead>\n",
              "  <tbody>\n",
              "    <tr>\n",
              "      <th>0</th>\n",
              "      <td>9046</td>\n",
              "      <td>Male</td>\n",
              "      <td>67.0</td>\n",
              "      <td>0</td>\n",
              "      <td>1</td>\n",
              "      <td>Yes</td>\n",
              "      <td>Private</td>\n",
              "      <td>Urban</td>\n",
              "      <td>228.69</td>\n",
              "      <td>36.6</td>\n",
              "      <td>formerly smoked</td>\n",
              "      <td>1</td>\n",
              "    </tr>\n",
              "    <tr>\n",
              "      <th>1</th>\n",
              "      <td>51676</td>\n",
              "      <td>Female</td>\n",
              "      <td>61.0</td>\n",
              "      <td>0</td>\n",
              "      <td>0</td>\n",
              "      <td>Yes</td>\n",
              "      <td>Self-employed</td>\n",
              "      <td>Rural</td>\n",
              "      <td>202.21</td>\n",
              "      <td>NaN</td>\n",
              "      <td>never smoked</td>\n",
              "      <td>1</td>\n",
              "    </tr>\n",
              "    <tr>\n",
              "      <th>2</th>\n",
              "      <td>31112</td>\n",
              "      <td>Male</td>\n",
              "      <td>80.0</td>\n",
              "      <td>0</td>\n",
              "      <td>1</td>\n",
              "      <td>Yes</td>\n",
              "      <td>Private</td>\n",
              "      <td>Rural</td>\n",
              "      <td>105.92</td>\n",
              "      <td>32.5</td>\n",
              "      <td>never smoked</td>\n",
              "      <td>1</td>\n",
              "    </tr>\n",
              "    <tr>\n",
              "      <th>3</th>\n",
              "      <td>60182</td>\n",
              "      <td>Female</td>\n",
              "      <td>49.0</td>\n",
              "      <td>0</td>\n",
              "      <td>0</td>\n",
              "      <td>Yes</td>\n",
              "      <td>Private</td>\n",
              "      <td>Urban</td>\n",
              "      <td>171.23</td>\n",
              "      <td>34.4</td>\n",
              "      <td>smokes</td>\n",
              "      <td>1</td>\n",
              "    </tr>\n",
              "    <tr>\n",
              "      <th>4</th>\n",
              "      <td>1665</td>\n",
              "      <td>Female</td>\n",
              "      <td>79.0</td>\n",
              "      <td>1</td>\n",
              "      <td>0</td>\n",
              "      <td>Yes</td>\n",
              "      <td>Self-employed</td>\n",
              "      <td>Rural</td>\n",
              "      <td>174.12</td>\n",
              "      <td>24.0</td>\n",
              "      <td>never smoked</td>\n",
              "      <td>1</td>\n",
              "    </tr>\n",
              "  </tbody>\n",
              "</table>\n",
              "</div>"
            ],
            "text/plain": [
              "      id  gender   age  ...   bmi   smoking_status stroke\n",
              "0   9046    Male  67.0  ...  36.6  formerly smoked      1\n",
              "1  51676  Female  61.0  ...   NaN     never smoked      1\n",
              "2  31112    Male  80.0  ...  32.5     never smoked      1\n",
              "3  60182  Female  49.0  ...  34.4           smokes      1\n",
              "4   1665  Female  79.0  ...  24.0     never smoked      1\n",
              "\n",
              "[5 rows x 12 columns]"
            ]
          },
          "metadata": {},
          "execution_count": 3
        }
      ]
    },
    {
      "cell_type": "code",
      "metadata": {
        "colab": {
          "base_uri": "https://localhost:8080/"
        },
        "id": "GKVZcGzKHxSG",
        "outputId": "02e4906c-6262-4405-fe6f-41b76673a1b6"
      },
      "source": [
        "df.info()"
      ],
      "execution_count": null,
      "outputs": [
        {
          "output_type": "stream",
          "name": "stdout",
          "text": [
            "<class 'pandas.core.frame.DataFrame'>\n",
            "RangeIndex: 5110 entries, 0 to 5109\n",
            "Data columns (total 12 columns):\n",
            " #   Column             Non-Null Count  Dtype  \n",
            "---  ------             --------------  -----  \n",
            " 0   id                 5110 non-null   int64  \n",
            " 1   gender             5110 non-null   object \n",
            " 2   age                5110 non-null   float64\n",
            " 3   hypertension       5110 non-null   int64  \n",
            " 4   heart_disease      5110 non-null   int64  \n",
            " 5   ever_married       5110 non-null   object \n",
            " 6   work_type          5110 non-null   object \n",
            " 7   Residence_type     5110 non-null   object \n",
            " 8   avg_glucose_level  5110 non-null   float64\n",
            " 9   bmi                4909 non-null   float64\n",
            " 10  smoking_status     5110 non-null   object \n",
            " 11  stroke             5110 non-null   int64  \n",
            "dtypes: float64(3), int64(4), object(5)\n",
            "memory usage: 479.2+ KB\n"
          ]
        }
      ]
    },
    {
      "cell_type": "code",
      "metadata": {
        "colab": {
          "base_uri": "https://localhost:8080/"
        },
        "id": "xgDGgleqIS03",
        "outputId": "73510043-245b-4ff7-a5b6-54880c765dfd"
      },
      "source": [
        "# Id is not important \n",
        "df.pop(\"id\")"
      ],
      "execution_count": null,
      "outputs": [
        {
          "output_type": "execute_result",
          "data": {
            "text/plain": [
              "0        9046\n",
              "1       51676\n",
              "2       31112\n",
              "3       60182\n",
              "4        1665\n",
              "        ...  \n",
              "5105    18234\n",
              "5106    44873\n",
              "5107    19723\n",
              "5108    37544\n",
              "5109    44679\n",
              "Name: id, Length: 5110, dtype: int64"
            ]
          },
          "metadata": {},
          "execution_count": 5
        }
      ]
    },
    {
      "cell_type": "markdown",
      "metadata": {
        "id": "ibMlJ0n8CpQt"
      },
      "source": [
        "---\n",
        "$Problems$ $:$\n",
        "* Categorical Data\n",
        "* Nan values (i.e. Empty Values)\n"
      ]
    },
    {
      "cell_type": "code",
      "metadata": {
        "id": "-9IA5-wdCmfz"
      },
      "source": [
        "# Categorical Columns \n",
        "Cat_col = [\"gender\",\"ever_married\",\"work_type\",\"Residence_type\",\"smoking_status\"]\n",
        "Le = LabelEncoder()\n",
        "for i in Cat_col:\n",
        "  df[i] = Le.fit_transform(df[i])"
      ],
      "execution_count": null,
      "outputs": []
    },
    {
      "cell_type": "code",
      "metadata": {
        "colab": {
          "base_uri": "https://localhost:8080/",
          "height": 203
        },
        "id": "v8rCPCDrDc0r",
        "outputId": "48fc7e1d-c704-43f1-ebe9-42f34f2aaf3f"
      },
      "source": [
        "df.head()"
      ],
      "execution_count": null,
      "outputs": [
        {
          "output_type": "execute_result",
          "data": {
            "text/html": [
              "<div>\n",
              "<style scoped>\n",
              "    .dataframe tbody tr th:only-of-type {\n",
              "        vertical-align: middle;\n",
              "    }\n",
              "\n",
              "    .dataframe tbody tr th {\n",
              "        vertical-align: top;\n",
              "    }\n",
              "\n",
              "    .dataframe thead th {\n",
              "        text-align: right;\n",
              "    }\n",
              "</style>\n",
              "<table border=\"1\" class=\"dataframe\">\n",
              "  <thead>\n",
              "    <tr style=\"text-align: right;\">\n",
              "      <th></th>\n",
              "      <th>gender</th>\n",
              "      <th>age</th>\n",
              "      <th>hypertension</th>\n",
              "      <th>heart_disease</th>\n",
              "      <th>ever_married</th>\n",
              "      <th>work_type</th>\n",
              "      <th>Residence_type</th>\n",
              "      <th>avg_glucose_level</th>\n",
              "      <th>bmi</th>\n",
              "      <th>smoking_status</th>\n",
              "      <th>stroke</th>\n",
              "    </tr>\n",
              "  </thead>\n",
              "  <tbody>\n",
              "    <tr>\n",
              "      <th>0</th>\n",
              "      <td>1</td>\n",
              "      <td>67.0</td>\n",
              "      <td>0</td>\n",
              "      <td>1</td>\n",
              "      <td>1</td>\n",
              "      <td>2</td>\n",
              "      <td>1</td>\n",
              "      <td>228.69</td>\n",
              "      <td>36.6</td>\n",
              "      <td>1</td>\n",
              "      <td>1</td>\n",
              "    </tr>\n",
              "    <tr>\n",
              "      <th>1</th>\n",
              "      <td>0</td>\n",
              "      <td>61.0</td>\n",
              "      <td>0</td>\n",
              "      <td>0</td>\n",
              "      <td>1</td>\n",
              "      <td>3</td>\n",
              "      <td>0</td>\n",
              "      <td>202.21</td>\n",
              "      <td>NaN</td>\n",
              "      <td>2</td>\n",
              "      <td>1</td>\n",
              "    </tr>\n",
              "    <tr>\n",
              "      <th>2</th>\n",
              "      <td>1</td>\n",
              "      <td>80.0</td>\n",
              "      <td>0</td>\n",
              "      <td>1</td>\n",
              "      <td>1</td>\n",
              "      <td>2</td>\n",
              "      <td>0</td>\n",
              "      <td>105.92</td>\n",
              "      <td>32.5</td>\n",
              "      <td>2</td>\n",
              "      <td>1</td>\n",
              "    </tr>\n",
              "    <tr>\n",
              "      <th>3</th>\n",
              "      <td>0</td>\n",
              "      <td>49.0</td>\n",
              "      <td>0</td>\n",
              "      <td>0</td>\n",
              "      <td>1</td>\n",
              "      <td>2</td>\n",
              "      <td>1</td>\n",
              "      <td>171.23</td>\n",
              "      <td>34.4</td>\n",
              "      <td>3</td>\n",
              "      <td>1</td>\n",
              "    </tr>\n",
              "    <tr>\n",
              "      <th>4</th>\n",
              "      <td>0</td>\n",
              "      <td>79.0</td>\n",
              "      <td>1</td>\n",
              "      <td>0</td>\n",
              "      <td>1</td>\n",
              "      <td>3</td>\n",
              "      <td>0</td>\n",
              "      <td>174.12</td>\n",
              "      <td>24.0</td>\n",
              "      <td>2</td>\n",
              "      <td>1</td>\n",
              "    </tr>\n",
              "  </tbody>\n",
              "</table>\n",
              "</div>"
            ],
            "text/plain": [
              "   gender   age  hypertension  ...   bmi  smoking_status  stroke\n",
              "0       1  67.0             0  ...  36.6               1       1\n",
              "1       0  61.0             0  ...   NaN               2       1\n",
              "2       1  80.0             0  ...  32.5               2       1\n",
              "3       0  49.0             0  ...  34.4               3       1\n",
              "4       0  79.0             1  ...  24.0               2       1\n",
              "\n",
              "[5 rows x 11 columns]"
            ]
          },
          "metadata": {},
          "execution_count": 7
        }
      ]
    },
    {
      "cell_type": "markdown",
      "metadata": {
        "id": "KzJMzowRD95R"
      },
      "source": [
        "\n",
        "Yeah!!, Got rid of the Categorical Data. I think we should go for Feature Importance, it might help.\n",
        "\n",
        "----"
      ]
    },
    {
      "cell_type": "markdown",
      "metadata": {
        "id": "961kCcpDFsMF"
      },
      "source": [
        "---\n",
        "$Imputing$\n",
        "\n",
        "---"
      ]
    },
    {
      "cell_type": "code",
      "metadata": {
        "colab": {
          "base_uri": "https://localhost:8080/"
        },
        "id": "z3LbKG6SDrlk",
        "outputId": "b69f6496-ad8a-404a-8a00-6c5afe2ae1ad"
      },
      "source": [
        "df.isnull().sum() # Checking the null values"
      ],
      "execution_count": null,
      "outputs": [
        {
          "output_type": "execute_result",
          "data": {
            "text/plain": [
              "gender                 0\n",
              "age                    0\n",
              "hypertension           0\n",
              "heart_disease          0\n",
              "ever_married           0\n",
              "work_type              0\n",
              "Residence_type         0\n",
              "avg_glucose_level      0\n",
              "bmi                  201\n",
              "smoking_status         0\n",
              "stroke                 0\n",
              "dtype: int64"
            ]
          },
          "metadata": {},
          "execution_count": 8
        }
      ]
    },
    {
      "cell_type": "markdown",
      "metadata": {
        "id": "iV1wyrLZETD9"
      },
      "source": [
        "---\n",
        "Can clearly see 200 NaN values there.. Ahh needa do imputing.\n",
        "\n",
        "---"
      ]
    },
    {
      "cell_type": "code",
      "metadata": {
        "id": "a0D_SB4yF84z"
      },
      "source": [
        "SI = SimpleImputer()\n",
        "df = SI.fit_transform(df)"
      ],
      "execution_count": null,
      "outputs": []
    },
    {
      "cell_type": "code",
      "metadata": {
        "colab": {
          "base_uri": "https://localhost:8080/",
          "height": 203
        },
        "id": "Hn1P9HZsGl0P",
        "outputId": "534fff24-a762-4c35-9c3e-4e829c715690"
      },
      "source": [
        "df = pd.DataFrame(df)\n",
        "cols = [\"gender\",\"age\",\"hypertension\",\"heart_disease\",\"ever_married\",\"work_type\",\"Residence_type\",\"avg_glucose_level\",\"bmi\",\"smoking_status \", \"stroke\"]\n",
        "df.columns = cols\n",
        "df.head()"
      ],
      "execution_count": null,
      "outputs": [
        {
          "output_type": "execute_result",
          "data": {
            "text/html": [
              "<div>\n",
              "<style scoped>\n",
              "    .dataframe tbody tr th:only-of-type {\n",
              "        vertical-align: middle;\n",
              "    }\n",
              "\n",
              "    .dataframe tbody tr th {\n",
              "        vertical-align: top;\n",
              "    }\n",
              "\n",
              "    .dataframe thead th {\n",
              "        text-align: right;\n",
              "    }\n",
              "</style>\n",
              "<table border=\"1\" class=\"dataframe\">\n",
              "  <thead>\n",
              "    <tr style=\"text-align: right;\">\n",
              "      <th></th>\n",
              "      <th>gender</th>\n",
              "      <th>age</th>\n",
              "      <th>hypertension</th>\n",
              "      <th>heart_disease</th>\n",
              "      <th>ever_married</th>\n",
              "      <th>work_type</th>\n",
              "      <th>Residence_type</th>\n",
              "      <th>avg_glucose_level</th>\n",
              "      <th>bmi</th>\n",
              "      <th>smoking_status</th>\n",
              "      <th>stroke</th>\n",
              "    </tr>\n",
              "  </thead>\n",
              "  <tbody>\n",
              "    <tr>\n",
              "      <th>0</th>\n",
              "      <td>1.0</td>\n",
              "      <td>67.0</td>\n",
              "      <td>0.0</td>\n",
              "      <td>1.0</td>\n",
              "      <td>1.0</td>\n",
              "      <td>2.0</td>\n",
              "      <td>1.0</td>\n",
              "      <td>228.69</td>\n",
              "      <td>36.600000</td>\n",
              "      <td>1.0</td>\n",
              "      <td>1.0</td>\n",
              "    </tr>\n",
              "    <tr>\n",
              "      <th>1</th>\n",
              "      <td>0.0</td>\n",
              "      <td>61.0</td>\n",
              "      <td>0.0</td>\n",
              "      <td>0.0</td>\n",
              "      <td>1.0</td>\n",
              "      <td>3.0</td>\n",
              "      <td>0.0</td>\n",
              "      <td>202.21</td>\n",
              "      <td>28.893237</td>\n",
              "      <td>2.0</td>\n",
              "      <td>1.0</td>\n",
              "    </tr>\n",
              "    <tr>\n",
              "      <th>2</th>\n",
              "      <td>1.0</td>\n",
              "      <td>80.0</td>\n",
              "      <td>0.0</td>\n",
              "      <td>1.0</td>\n",
              "      <td>1.0</td>\n",
              "      <td>2.0</td>\n",
              "      <td>0.0</td>\n",
              "      <td>105.92</td>\n",
              "      <td>32.500000</td>\n",
              "      <td>2.0</td>\n",
              "      <td>1.0</td>\n",
              "    </tr>\n",
              "    <tr>\n",
              "      <th>3</th>\n",
              "      <td>0.0</td>\n",
              "      <td>49.0</td>\n",
              "      <td>0.0</td>\n",
              "      <td>0.0</td>\n",
              "      <td>1.0</td>\n",
              "      <td>2.0</td>\n",
              "      <td>1.0</td>\n",
              "      <td>171.23</td>\n",
              "      <td>34.400000</td>\n",
              "      <td>3.0</td>\n",
              "      <td>1.0</td>\n",
              "    </tr>\n",
              "    <tr>\n",
              "      <th>4</th>\n",
              "      <td>0.0</td>\n",
              "      <td>79.0</td>\n",
              "      <td>1.0</td>\n",
              "      <td>0.0</td>\n",
              "      <td>1.0</td>\n",
              "      <td>3.0</td>\n",
              "      <td>0.0</td>\n",
              "      <td>174.12</td>\n",
              "      <td>24.000000</td>\n",
              "      <td>2.0</td>\n",
              "      <td>1.0</td>\n",
              "    </tr>\n",
              "  </tbody>\n",
              "</table>\n",
              "</div>"
            ],
            "text/plain": [
              "   gender   age  hypertension  ...        bmi  smoking_status   stroke\n",
              "0     1.0  67.0           0.0  ...  36.600000              1.0     1.0\n",
              "1     0.0  61.0           0.0  ...  28.893237              2.0     1.0\n",
              "2     1.0  80.0           0.0  ...  32.500000              2.0     1.0\n",
              "3     0.0  49.0           0.0  ...  34.400000              3.0     1.0\n",
              "4     0.0  79.0           1.0  ...  24.000000              2.0     1.0\n",
              "\n",
              "[5 rows x 11 columns]"
            ]
          },
          "metadata": {},
          "execution_count": 10
        }
      ]
    },
    {
      "cell_type": "markdown",
      "metadata": {
        "id": "HKn27d-OF9fG"
      },
      "source": [
        "---\n",
        "$Feature$ $Importnace$"
      ]
    },
    {
      "cell_type": "code",
      "metadata": {
        "id": "Jp0_Gb7JEjy0"
      },
      "source": [
        "rfc = RandomForestClassifier().fit(df.iloc[:,:-1],df['stroke'])\n",
        "importances = rfc.feature_importances_"
      ],
      "execution_count": null,
      "outputs": []
    },
    {
      "cell_type": "code",
      "metadata": {
        "colab": {
          "base_uri": "https://localhost:8080/"
        },
        "id": "pCkDk1xWD09s",
        "outputId": "88afcfb6-76e3-468f-9b57-17ec2b84c79f"
      },
      "source": [
        "X_cols = cols[:-1]\n",
        "for i,v in enumerate(X_cols):\n",
        "  print(f\"Feature : {X_cols[i]} \\n Importance : {importances[i]}\")"
      ],
      "execution_count": null,
      "outputs": [
        {
          "output_type": "stream",
          "name": "stdout",
          "text": [
            "Feature : gender \n",
            " Importance : 0.032703113320129415\n",
            "Feature : age \n",
            " Importance : 0.2283394055154762\n",
            "Feature : hypertension \n",
            " Importance : 0.024377526680732082\n",
            "Feature : heart_disease \n",
            " Importance : 0.02453466790959509\n",
            "Feature : ever_married \n",
            " Importance : 0.018547546726853617\n",
            "Feature : work_type \n",
            " Importance : 0.04952515135792543\n",
            "Feature : Residence_type \n",
            " Importance : 0.03331394303572572\n",
            "Feature : avg_glucose_level \n",
            " Importance : 0.28417920050346507\n",
            "Feature : bmi \n",
            " Importance : 0.23613297542180023\n",
            "Feature : smoking_status  \n",
            " Importance : 0.06834646952829722\n"
          ]
        }
      ]
    },
    {
      "cell_type": "code",
      "metadata": {
        "colab": {
          "base_uri": "https://localhost:8080/",
          "height": 402
        },
        "id": "ip0RwQUmIsZ8",
        "outputId": "dd9fc4e8-337a-4c75-8074-f12ccf77d41f"
      },
      "source": [
        "plt.figure(figsize=(8,5))\n",
        "plt.bar(X_cols,importances)\n",
        "max_ = np.array(np.where(importances==importances.max()))\n",
        "min_ = np.array(np.where(importances==importances.min()))\n",
        "plt.bar(X_cols[max_[0][0]],importances.max(),color=\"green\",label=\"Max\")\n",
        "plt.bar(X_cols[min_[0][0]],importances.min(),color=\"purple\",label=\"Min\")\n",
        "plt.grid()\n",
        "plt.ylabel(\"Score\")\n",
        "plt.xticks(rotation=50)\n",
        "plt.title(\"Feature Importance\")\n",
        "plt.legend()\n",
        "plt.show()"
      ],
      "execution_count": null,
      "outputs": [
        {
          "output_type": "display_data",
          "data": {
            "image/png": "[encoded data removed]",
            "text/plain": [
              "<Figure size 576x360 with 1 Axes>"
            ]
          },
          "metadata": {
            "needs_background": "light"
          }
        }
      ]
    },
    {
      "cell_type": "markdown",
      "metadata": {
        "id": "sTGZjdQLNuNS"
      },
      "source": [
        "---\n",
        "Good News!! Marriage don't affect STROKES..haha (Joking)\n",
        "\n",
        "But $Glucose$ $Level$ does, $Age$ with $BMI$ also plays a significant role.\n",
        "\n",
        "If this would have been a big dataset, I would have removes low importance feature, but for now let's keep the data as it is.\n",
        "\n",
        "---"
      ]
    },
    {
      "cell_type": "markdown",
      "metadata": {
        "id": "0D_3e4S0QOzG"
      },
      "source": [
        "---\n",
        "$EDA$\n",
        "\n",
        "---"
      ]
    },
    {
      "cell_type": "code",
      "metadata": {
        "colab": {
          "base_uri": "https://localhost:8080/",
          "height": 416
        },
        "id": "0hWXJF9vQRtB",
        "outputId": "aeaee353-e455-45a0-89a9-104a3e5999b2"
      },
      "source": [
        "plt.figure(figsize=(8,5))\n",
        "Corr_ = df.corr()\n",
        "sns.heatmap(Corr_)\n",
        "plt.title(\"EDA\")\n",
        "plt.show()"
      ],
      "execution_count": null,
      "outputs": [
        {
          "output_type": "display_data",
          "data": {
            "image/png": "[encoded data removed]",
            "text/plain": [
              "<Figure size 576x360 with 2 Axes>"
            ]
          },
          "metadata": {
            "needs_background": "light"
          }
        }
      ]
    },
    {
      "cell_type": "markdown",
      "metadata": {
        "id": "bIIn8b1bQzmk"
      },
      "source": [
        "---\n",
        "Clearly, $Age$ and $Marriage$ have a high relation and this is true in reality.\n",
        "\n",
        "$Spots :$\n",
        "\n",
        "* `Hypertension` and `age` also have a good relation.\n",
        "* `Heart Disease` and `age` also have a good relation.\n",
        "* `Work Type` have good relations with `age`, `marriage`,`Smoking`.\n",
        "\n",
        "Other than `smoking` it seems natural.\n",
        "\n",
        "\n",
        "---"
      ]
    },
    {
      "cell_type": "markdown",
      "metadata": {
        "id": "bDfNFgScOfrD"
      },
      "source": [
        "---\n",
        "$Model$"
      ]
    },
    {
      "cell_type": "code",
      "metadata": {
        "id": "aiEt0HVYMYnQ"
      },
      "source": [
        "X_data,Y_data = df.iloc[:,:-1], df[\"stroke\"]\n",
        "X_train,X_test,Y_train,Y_test = train_test_split(X_data,Y_data)"
      ],
      "execution_count": null,
      "outputs": []
    },
    {
      "cell_type": "code",
      "metadata": {
        "colab": {
          "base_uri": "https://localhost:8080/"
        },
        "id": "_XAhhh1kUrfN",
        "outputId": "14793b89-ae71-4a05-aa82-b33a572e918d"
      },
      "source": [
        "print(f\"Class Distribution : {np.bincount(Y_train)}\")"
      ],
      "execution_count": null,
      "outputs": [
        {
          "output_type": "stream",
          "name": "stdout",
          "text": [
            "Class Distribution : [3644  188]\n"
          ]
        }
      ]
    },
    {
      "cell_type": "markdown",
      "metadata": {
        "id": "IK_F6pOaXrbq"
      },
      "source": [
        "---\n",
        "The imbalance is too high that even stratifying won't work here.\n",
        "\n",
        "---"
      ]
    },
    {
      "cell_type": "code",
      "metadata": {
        "colab": {
          "base_uri": "https://localhost:8080/"
        },
        "id": "KzU3-FgzV2kt",
        "outputId": "ea29b38d-c826-42ce-dabd-a4ef952b50c8"
      },
      "source": [
        "# 1. Logistic Regression\n",
        "Lr = LogisticRegression(C=1.0).fit(X_train,Y_train)\n",
        "print(f\"Accuracy : {Lr.score(X_test,Y_test)}\")\n",
        "print(f\"F1 Score : {f1_score(Y_train,Lr.predict(X_train))}\")\n",
        "print(f\"CM \\n : {confusion_matrix(Y_train,Lr.predict(X_train))}\")"
      ],
      "execution_count": null,
      "outputs": [
        {
          "output_type": "stream",
          "name": "stdout",
          "text": [
            "Accuracy : 0.9522691705790297\n",
            "F1 Score : 0.03092783505154639\n",
            "CM \n",
            " : [[3641    3]\n",
            " [ 185    3]]\n"
          ]
        },
        {
          "output_type": "stream",
          "name": "stderr",
          "text": [
            "/usr/local/lib/python3.7/dist-packages/sklearn/linear_model/_logistic.py:940: ConvergenceWarning: lbfgs failed to converge (status=1):\n",
            "STOP: TOTAL NO. of ITERATIONS REACHED LIMIT.\n",
            "\n",
            "Increase the number of iterations (max_iter) or scale the data as shown in:\n",
            "    https://scikit-learn.org/stable/modules/preprocessing.html\n",
            "Please also refer to the documentation for alternative solver options:\n",
            "    https://scikit-learn.org/stable/modules/linear_model.html#logistic-regression\n",
            "  extra_warning_msg=_LOGISTIC_SOLVER_CONVERGENCE_MSG)\n"
          ]
        }
      ]
    },
    {
      "cell_type": "markdown",
      "metadata": {
        "id": "KbstVt2ZbDr4"
      },
      "source": [
        "---\n",
        "Good Accuracy, but very bad F1 Score.\n",
        "\n",
        "---"
      ]
    },
    {
      "cell_type": "code",
      "metadata": {
        "colab": {
          "base_uri": "https://localhost:8080/"
        },
        "id": "EFAbu_VNZ4Rl",
        "outputId": "5558d111-f3b1-43c9-97bf-aece1084355f"
      },
      "source": [
        "# 2. KNN\n",
        "KNN = KNeighborsClassifier(n_neighbors=2).fit(X_train,Y_train)\n",
        "print(f\"Accuracy : {KNN.score(X_test,Y_test)}\")\n",
        "print(f\"F1 Score : {f1_score(Y_train,KNN.predict(X_train))}\")\n",
        "print(f\"CM \\n : {confusion_matrix(Y_train,KNN.predict(X_train))}\")"
      ],
      "execution_count": null,
      "outputs": [
        {
          "output_type": "stream",
          "name": "stdout",
          "text": [
            "Accuracy : 0.9491392801251957\n",
            "F1 Score : 0.25116279069767444\n",
            "CM \n",
            " : [[3644    0]\n",
            " [ 161   27]]\n"
          ]
        }
      ]
    },
    {
      "cell_type": "markdown",
      "metadata": {
        "id": "j1hLmPJ-bKq-"
      },
      "source": [
        "---\n",
        "Good Accuracy with good F1 Score.\n",
        "\n",
        "\n",
        "---"
      ]
    },
    {
      "cell_type": "code",
      "metadata": {
        "colab": {
          "base_uri": "https://localhost:8080/"
        },
        "id": "RaW1NAGvbBlV",
        "outputId": "8d5a8c7a-4c28-433c-8bf7-8f503a9ca85a"
      },
      "source": [
        "# 3. SVM(linear)\n",
        "SVC_l = SVC(C=1.0,kernel=\"linear\").fit(X_train,Y_train)\n",
        "print(f\"Accuracy : {SVC_l.score(X_test,Y_test)}\")\n",
        "print(f\"F1 Score : {f1_score(Y_train,SVC_l.predict(X_train))}\")\n",
        "print(f\"CM \\n : {confusion_matrix(Y_train,SVC_l.predict(X_train))}\")"
      ],
      "execution_count": null,
      "outputs": [
        {
          "output_type": "stream",
          "name": "stdout",
          "text": [
            "Accuracy : 0.9522691705790297\n",
            "F1 Score : 0.0\n",
            "CM \n",
            " : [[3644    0]\n",
            " [ 188    0]]\n"
          ]
        }
      ]
    },
    {
      "cell_type": "code",
      "metadata": {
        "colab": {
          "base_uri": "https://localhost:8080/"
        },
        "id": "3j4IGxNNcXmN",
        "outputId": "504141a2-20df-452f-aa06-831500f18bb9"
      },
      "source": [
        "# 4. SVM(rbf)\n",
        "SVC_rbf = SVC(C=1.0,kernel=\"rbf\").fit(X_train,Y_train)\n",
        "print(f\"Accuracy : {SVC_rbf.score(X_test,Y_test)}\")\n",
        "print(f\"F1 Score : {f1_score(Y_train,SVC_rbf.predict(X_train))}\")\n",
        "print(f\"CM \\n : {confusion_matrix(Y_train,SVC_rbf.predict(X_train))}\")"
      ],
      "execution_count": null,
      "outputs": [
        {
          "output_type": "stream",
          "name": "stdout",
          "text": [
            "Accuracy : 0.9522691705790297\n",
            "F1 Score : 0.0\n",
            "CM \n",
            " : [[3644    0]\n",
            " [ 188    0]]\n"
          ]
        }
      ]
    },
    {
      "cell_type": "code",
      "metadata": {
        "colab": {
          "base_uri": "https://localhost:8080/"
        },
        "id": "HVJIS0vmbnav",
        "outputId": "1ed74776-babb-4c9b-ad9a-0062593b2676"
      },
      "source": [
        "# 5. DTC\n",
        "DTC = DecisionTreeClassifier(max_depth=10).fit(X_train,Y_train)\n",
        "print(f\"Accuracy : {DTC.score(X_test,Y_test)}\")\n",
        "print(f\"F1 Score : {f1_score(Y_train,DTC.predict(X_train))}\")\n",
        "print(f\"CM \\n : {confusion_matrix(Y_train,DTC.predict(X_train))}\")"
      ],
      "execution_count": null,
      "outputs": [
        {
          "output_type": "stream",
          "name": "stdout",
          "text": [
            "Accuracy : 0.9264475743348983\n",
            "F1 Score : 0.6360424028268552\n",
            "CM \n",
            " : [[3639    5]\n",
            " [  98   90]]\n"
          ]
        }
      ]
    },
    {
      "cell_type": "code",
      "metadata": {
        "colab": {
          "base_uri": "https://localhost:8080/"
        },
        "id": "G-kjYDNCczk4",
        "outputId": "5bf3972f-4f09-4e4d-9b0d-ba97942a74e3"
      },
      "source": [
        "# 6. RFC\n",
        "RFC = RandomForestClassifier(n_estimators=50).fit(X_train,Y_train)\n",
        "print(f\"Accuracy : {RFC.score(X_test,Y_test)}\")\n",
        "print(f\"F1 Score : {f1_score(Y_train,RFC.predict(X_train))}\")\n",
        "print(f\"CM \\n : {confusion_matrix(Y_train,RFC.predict(X_train))}\")"
      ],
      "execution_count": null,
      "outputs": [
        {
          "output_type": "stream",
          "name": "stdout",
          "text": [
            "Accuracy : 0.9499217527386542\n",
            "F1 Score : 0.9973333333333333\n",
            "CM \n",
            " : [[3644    0]\n",
            " [   1  187]]\n"
          ]
        }
      ]
    },
    {
      "cell_type": "code",
      "metadata": {
        "colab": {
          "base_uri": "https://localhost:8080/"
        },
        "id": "4xHM0qC2dY7q",
        "outputId": "90dbbcf3-881f-4000-e6e0-91ffd7d9bcd0"
      },
      "source": [
        "# 7. AdaBoost\n",
        "AdaBoost = AdaBoostClassifier(base_estimator=DecisionTreeClassifier(max_depth=10)).fit(X_train,Y_train)\n",
        "print(f\"Accuracy : {AdaBoost.score(X_test,Y_test)}\")\n",
        "print(f\"F1 Score : {f1_score(Y_train,AdaBoost.predict(X_train))}\")\n",
        "print(f\"CM \\n : {confusion_matrix(Y_train,AdaBoost.predict(X_train))}\")"
      ],
      "execution_count": null,
      "outputs": [
        {
          "output_type": "stream",
          "name": "stdout",
          "text": [
            "Accuracy : 0.9405320813771518\n",
            "F1 Score : 1.0\n",
            "CM \n",
            " : [[3644    0]\n",
            " [   0  188]]\n"
          ]
        }
      ]
    },
    {
      "cell_type": "code",
      "metadata": {
        "colab": {
          "base_uri": "https://localhost:8080/"
        },
        "id": "m56CvfTKdcGp",
        "outputId": "caf0cb9b-5a5a-4dd7-9ee3-4150dd2d9f55"
      },
      "source": [
        "# 8. Xgboost\n",
        "Xg = xgboost.XGBClassifier(base_estimator=DecisionTreeClassifier(max_depth=10)).fit(X_train,Y_train)\n",
        "print(f\"Accuracy : {AdaBoost.score(X_test,Y_test)}\")\n",
        "print(f\"F1 Score : {f1_score(Y_train,AdaBoost.predict(X_train))}\")\n",
        "print(f\"CM \\n : {confusion_matrix(Y_train,AdaBoost.predict(X_train))}\")"
      ],
      "execution_count": null,
      "outputs": [
        {
          "output_type": "stream",
          "name": "stdout",
          "text": [
            "Accuracy : 0.9405320813771518\n",
            "F1 Score : 1.0\n",
            "CM \n",
            " : [[3644    0]\n",
            " [   0  188]]\n"
          ]
        }
      ]
    },
    {
      "cell_type": "markdown",
      "metadata": {
        "id": "sQjezCCgecEF"
      },
      "source": [
        "---\n",
        "Can do further optimization, But I guess $XGBoost$ will work fine. \n",
        "\n",
        "---"
      ]
    },
    {
      "cell_type": "code",
      "metadata": {
        "id": "o-Vbdk4TdqgC"
      },
      "source": [
        ""
      ],
      "execution_count": null,
      "outputs": []
    }
  ]
}